{
 "cells": [
  {
   "cell_type": "markdown",
   "metadata": {},
   "source": [
    "Connor Goosen<br>\n",
    "GSNCON001"
   ]
  },
  {
   "cell_type": "markdown",
   "metadata": {},
   "source": [
    "# Analytical Problems:"
   ]
  },
  {
   "cell_type": "markdown",
   "metadata": {},
   "source": [
    "## 1.a\n",
    "Given the formula: </br>\n",
    "$$x_{n+1} = x_n - (\\cos{x_n})(\\sin{x_n}) + R\\cos^2{x_n}$$\n",
    "knowing that the formula was derived by means of the Newton-Raphson method:\n",
    "$$x_{n+1} = x_n - \\frac{f(x_n)}{f^\\prime(x_n)}$$\n",
    "\n",
    "allows us to say that:\n",
    "$$\\frac{f(x_n)}{f^\\prime(x_n)} = (\\cos{x_n})(\\sin{x_n}) + R\\cos^2{x_n}$$\n",
    "\n",
    "Additionally, from calculus we know that $\\int{\\frac{f^\\prime(x)}{f(x)}} = \\ln|f(x)|$, therefore by inverting both sides of the equation gives us:\n",
    "$$\\frac{f^\\prime(x)}{f(x)} = \\frac{1}{\\cos{x_n})(\\sin{x_n}) + R\\cos^2{x_n}}$$\n",
    "Therefore, integrating both sides:\n",
    "$$\\int{\\frac{f^\\prime(x)}{f(x)}} = \\int{\\frac{1}{\\cos{x_n})(\\sin{x_n}) + R\\cos^2{x_n}}}$$\n",
    "<br>\n",
    "$$\\ln{|f(x)|} = \\ln{|\\tan(x_n)-R|}$$\n",
    "<br>\n",
    "$$\\Rightarrow f(x_n) = \\tan(x_n)-R$$"
   ]
  },
  {
   "cell_type": "markdown",
   "metadata": {},
   "source": [
    "## 1.b\n",
    "This formula can be used to find the root of $tan(x_n)-R$, the original function."
   ]
  },
  {
   "cell_type": "markdown",
   "metadata": {},
   "source": [
    "# Numerical Problems:\n",
    "The task is to find the root to the function: $f(x) = x^3-10$ using multiple approximation algorithms and compare their convergence to the root."
   ]
  },
  {
   "cell_type": "code",
   "execution_count": 56,
   "metadata": {},
   "outputs": [],
   "source": [
    "function f(x) #function\n",
    "    return x^3 -10\n",
    "end\n",
    "\n",
    "function ff(x) #first derivative of function\n",
    "    return 3x^2\n",
    "end\n",
    "\n",
    "function fff(x) #second derivative of function\n",
    "    return 6x\n",
    "    end;"
   ]
  },
  {
   "cell_type": "code",
   "execution_count": 62,
   "metadata": {},
   "outputs": [],
   "source": [
    "function Halley(xn)\n",
    "   xn = xn - (2.0*f(xn)*ff(xn))/((2*ff(xn)^2) - f(xn)*fff(xn)) \n",
    "end\n",
    "\n",
    "function Newton(xn)\n",
    "    xn=xn-(f(xn)/ff(xn))\n",
    "end\n",
    "\n",
    "function Bisection(xl, xr)\n",
    "    xm = (xl+xr)/2.0\n",
    "    tmp = 0\n",
    "    approx = []\n",
    "    while xm != tmp\n",
    "        tmp = xm\n",
    "        (f(xm)>0) ? xr = xm : xl=xm\n",
    "        append!(approx, xm)\n",
    "        xm = (xr+xl)/2\n",
    "    end\n",
    "    return approx\n",
    "    end;"
   ]
  },
  {
   "cell_type": "code",
   "execution_count": 63,
   "metadata": {},
   "outputs": [],
   "source": [
    "function rootfinder(any_func::Function)\n",
    "x0 = 2.0\n",
    "tmp = 0.0\n",
    "approx = [2.0]\n",
    "while x0 != tmp\n",
    "    tmp = x0\n",
    "    x0 = any_func(x0)\n",
    "    append!(approx, x0)\n",
    "end\n",
    "approx\n",
    "end\n",
    "\n",
    "halley = rootfinder(Halley)\n",
    "newton=rootfinder(Newton);\n",
    "bisection = Bisection(2.0,4.0);"
   ]
  },
  {
   "cell_type": "markdown",
   "metadata": {},
   "source": [
    "## 2a\n",
    "Implementing the Halley Method as seen in the ```function Halley(xn)``` method above\n",
    "yeilds:"
   ]
  },
  {
   "cell_type": "code",
   "execution_count": 64,
   "metadata": {},
   "outputs": [
    {
     "data": {
      "text/plain": [
       "5-element Array{Float64,1}:\n",
       " 2.0               \n",
       " 2.1538461538461537\n",
       " 2.1544346900025926\n",
       " 2.154434690031884 \n",
       " 2.154434690031884 "
      ]
     },
     "execution_count": 64,
     "metadata": {},
     "output_type": "execute_result"
    }
   ],
   "source": [
    "halley"
   ]
  },
  {
   "cell_type": "markdown",
   "metadata": {},
   "source": [
    "Which can be seen to converge after just four iterations and gives the final approximaiton of the root as $x_n = 2.154434690031884$"
   ]
  },
  {
   "cell_type": "markdown",
   "metadata": {},
   "source": [
    "## 2b\n",
    "Now implementing the Newton-Raphson method on the same funciton gives the approximations:"
   ]
  },
  {
   "cell_type": "code",
   "execution_count": 67,
   "metadata": {},
   "outputs": [
    {
     "data": {
      "text/plain": [
       "6-element Array{Float64,1}:\n",
       " 2.0               \n",
       " 2.1666666666666665\n",
       " 2.1545036160420774\n",
       " 2.1544346922369133\n",
       " 2.154434690031884 \n",
       " 2.154434690031884 "
      ]
     },
     "execution_count": 67,
     "metadata": {},
     "output_type": "execute_result"
    }
   ],
   "source": [
    "newton"
   ]
  },
  {
   "cell_type": "markdown",
   "metadata": {},
   "source": [
    "Which takes five iterations to converge to the same value, showing it to be a slightly slower method."
   ]
  },
  {
   "cell_type": "markdown",
   "metadata": {},
   "source": [
    "## 2c\n",
    "Finally comparing Halley's method to the Bisection algorithm taught in class:\n",
    "We see that by implementing the algorithm:"
   ]
  },
  {
   "cell_type": "code",
   "execution_count": 68,
   "metadata": {},
   "outputs": [
    {
     "data": {
      "text/plain": [
       "53-element Array{Any,1}:\n",
       " 3.0               \n",
       " 2.5               \n",
       " 2.25              \n",
       " 2.125             \n",
       " 2.1875            \n",
       " 2.15625           \n",
       " 2.140625          \n",
       " 2.1484375         \n",
       " 2.15234375        \n",
       " 2.154296875       \n",
       " 2.1552734375      \n",
       " 2.15478515625     \n",
       " 2.154541015625    \n",
       " ⋮                 \n",
       " 2.1544346900323035\n",
       " 2.154434690032076 \n",
       " 2.1544346900319624\n",
       " 2.1544346900319056\n",
       " 2.154434690031877 \n",
       " 2.1544346900318914\n",
       " 2.1544346900318843\n",
       " 2.1544346900318807\n",
       " 2.1544346900318825\n",
       " 2.1544346900318834\n",
       " 2.154434690031884 \n",
       " 2.1544346900318834"
      ]
     },
     "execution_count": 68,
     "metadata": {},
     "output_type": "execute_result"
    }
   ],
   "source": [
    "bisection"
   ]
  },
  {
   "cell_type": "markdown",
   "metadata": {},
   "source": [
    "That we get an array of length 53 which means that it takes the algorithm 52 iterations in order to converge. When it does converge however, it can be noticed that it still oscillates between $2.154434690031884$, the result given by both the Halley and Newton methods and $2.1544346900318834$ showing it to be a less accurate and much slower algorithm to the Halley or Newton methods."
   ]
  },
  {
   "cell_type": "markdown",
   "metadata": {},
   "source": [
    "## Summary of numerical problem:\n",
    "From this simple analysis it is clear to see that the Halley method of root finding is the fastest of the three and is more acccurate than the bisection method.\n",
    "\n",
    "| Method: | Halley's Method | Newton's Method | Bisection Method |\n",
    "| ------- | --------------- | --------------- | ---------------- |\n",
    "| Final result:| 2.154434690031884 | 2.154434690031884 | 2.1544346900318834 |\n",
    "| Number of iterations required: | 4 | 5 | 52 |"
   ]
  },
  {
   "cell_type": "code",
   "execution_count": null,
   "metadata": {},
   "outputs": [],
   "source": []
  }
 ],
 "metadata": {
  "kernelspec": {
   "display_name": "Julia 1.4.1",
   "language": "julia",
   "name": "julia-1.4"
  },
  "language_info": {
   "file_extension": ".jl",
   "mimetype": "application/julia",
   "name": "julia",
   "version": "1.4.1"
  }
 },
 "nbformat": 4,
 "nbformat_minor": 4
}
